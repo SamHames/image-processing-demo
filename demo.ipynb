{
 "cells": [
  {
   "cell_type": "markdown",
   "id": "2d9af189-f5b8-463f-8ed8-13a2bf72c62b",
   "metadata": {},
   "source": [
    "# Loading, displaying and measuring something in an image.\n",
    "\n",
    "This demo file loads a single example image, displays it in the notebook and also shows the underlying array of pixel values that we can use to start performing image analytics with. The default is a single image file included within a repository, but you can also upload different images using the uploading function from the [files section](/tree/data) "
   ]
  },
  {
   "cell_type": "markdown",
   "id": "0ddc6b37-e660-4bca-b351-fae09a145b0c",
   "metadata": {},
   "source": [
    "# Load an image\n",
    "\n",
    "The first step is to load an image into a format that we can manipulate it with skimage's functionality.\n"
   ]
  },
  {
   "cell_type": "code",
   "execution_count": null,
   "id": "5cd6b9f5-126b-46ed-aae8-3e34dfbd7993",
   "metadata": {},
   "outputs": [],
   "source": [
    "# These are standard imports\n",
    "import numpy as np\n",
    "import skimage\n",
    "import matplotlib.pyplot as plt\n",
    "\n",
    "# This activates a nice mode for showing the figures inside the notebook - it isn't standard Python\n",
    "%matplotlib inline\n",
    "\n",
    "\n",
    "# Use the inbuilt functionality to load an image\n",
    "image = skimage.io.imread('data/view.jpg')\n",
    "\n",
    "# the `image` object is a three dimensional array of numbers - one value per pixel location and colour channel.\n",
    "# The shape is the height x width x number of colour channels in an array.\n",
    "# A monochrome image would only have a single channel, conventional colour images will have three channels \n",
    "# (typically Red, Green, Blue a transformation)\n",
    "print('shape:', image.shape)  \n",
    "\n",
    "# This is type uint8 or an 8 bit unsigned integer - this is a common format for images means that each value is between 0 and 255.\n",
    "print('data type:', image.dtype)  \n",
    "\n",
    "print('value:', image) # The 'value' of this images is all of the pixel values as numbers\n"
   ]
  },
  {
   "cell_type": "markdown",
   "id": "bcf1dde7-e01b-42b8-ab45-6a300b20aaf3",
   "metadata": {},
   "source": [
    "# Display an image\n",
    "\n",
    "If you want to see the image, not just the pixel value, use the `skimage.io.imshow` function on any image array. Note that this uses matplotlib to include x and y axes, and can be used to do more sophisticated plotting and annotation if you need it.\n"
   ]
  },
  {
   "cell_type": "code",
   "execution_count": null,
   "id": "28a46fbf-d4f5-46c7-9d58-670d6aa17e31",
   "metadata": {},
   "outputs": [],
   "source": [
    "skimage.io.imshow(image)"
   ]
  },
  {
   "cell_type": "markdown",
   "id": "89ecd5ca-8c7d-48c3-bebc-acca832c2169",
   "metadata": {},
   "source": [
    "# Transform an image\n",
    "\n",
    "Many skimage functions take an image and return a new transformed image. For example, we can convert our colour image to a grayscale image using the inbuilt function `skimage.color.rgb2gray`, and then use the same imshow function to display it. \n"
   ]
  },
  {
   "cell_type": "code",
   "execution_count": null,
   "id": "e20074b6-37a7-4822-b0cb-fdf84c94be11",
   "metadata": {
    "scrolled": true
   },
   "outputs": [],
   "source": [
    "# Transforming an image\n",
    "transformed = skimage.color.rgb2gray(image)\n",
    "print('transformed shape:', transformed.shape)\n",
    "skimage.io.imshow(transformed)"
   ]
  },
  {
   "cell_type": "code",
   "execution_count": null,
   "id": "4eba585b-15db-4546-8884-2f8aadef6c78",
   "metadata": {
    "scrolled": true
   },
   "outputs": [],
   "source": [
    "# Measure a histogram\n",
    "import matplotlib.pyplot as plt\n",
    "import numpy as np\n",
    "\n",
    "# Note that channel_axis is to tell skimage we have a three colour image, and we want to compute histograms for each.\n",
    "# Without this you will get a warning message!\n",
    "channel_histograms, bins = skimage.exposure.histogram(image, channel_axis=2)\n",
    "\n",
    "for histogram, label in zip(channel_histograms, ('red', 'green', 'blue')):\n",
    "    plt.plot(bins, histogram, label=label, color=label)\n",
    "\n",
    "plt.legend()\n",
    "plt.show()\n"
   ]
  },
  {
   "cell_type": "markdown",
   "id": "ec228348-2329-4a5d-ae42-8b2989321ef3",
   "metadata": {},
   "source": [
    "# Find edges\n",
    "\n",
    "The Canny edge detector is a classic algorithm for finding edges in an image. We'll find edges in the monochrome version of the image.\n",
    "\n",
    "Note that this just uses the default parameters, try running `help(skimage.color.rgb2gray)` to see the inbuilt documentation, or look at [the online help for Canny edge detection](https://scikit-image.org/docs/stable/api/skimage.feature.html#skimage.feature.canny) to see the different parameters - try experimenting with the sigma function and the various thresholds.\n"
   ]
  },
  {
   "cell_type": "code",
   "execution_count": null,
   "id": "54bd1634-a685-4329-b4dc-4c0406a4c4e3",
   "metadata": {
    "scrolled": true
   },
   "outputs": [],
   "source": [
    "# Transforming an image\n",
    "monochrome = skimage.color.rgb2gray(image)\n",
    "# Note that this is just the default parameters, which may not make much sense -\n",
    "# you can see the inbuilt help by calling help(function_name), or you might want to browse the documentation\n",
    "edges = skimage.feature.canny(monochrome)\n",
    "skimage.io.imshow(edges)\n",
    "\n",
    "\n"
   ]
  },
  {
   "cell_type": "code",
   "execution_count": null,
   "id": "dee436e9-b144-4915-9c4f-86176855ab65",
   "metadata": {},
   "outputs": [],
   "source": []
  }
 ],
 "metadata": {
  "kernelspec": {
   "display_name": "Python 3 (ipykernel)",
   "language": "python",
   "name": "python3"
  },
  "language_info": {
   "codemirror_mode": {
    "name": "ipython",
    "version": 3
   },
   "file_extension": ".py",
   "mimetype": "text/x-python",
   "name": "python",
   "nbconvert_exporter": "python",
   "pygments_lexer": "ipython3",
   "version": "3.9.18"
  }
 },
 "nbformat": 4,
 "nbformat_minor": 5
}
